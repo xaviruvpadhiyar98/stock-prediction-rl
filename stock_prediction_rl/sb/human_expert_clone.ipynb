{
 "cells": [
  {
   "cell_type": "code",
   "execution_count": 4,
   "metadata": {},
   "outputs": [
    {
     "name": "stdout",
     "output_type": "stream",
     "text": [
      "0.28.1\n"
     ]
    }
   ],
   "source": [
    "import gymnasium as gym\n",
    "from tqdm import tqdm\n",
    "import numpy as np\n",
    "from pathlib import Path\n",
    "import polars as pl\n",
    "import random\n",
    "\n",
    "print(f\"{gym.__version__}\")"
   ]
  },
  {
   "cell_type": "code",
   "execution_count": 5,
   "metadata": {},
   "outputs": [],
   "source": [
    "import torch as th\n",
    "import torch.nn as nn\n",
    "import torch.optim as optim\n",
    "from torch.optim.lr_scheduler import StepLR"
   ]
  },
  {
   "cell_type": "code",
   "execution_count": 6,
   "metadata": {},
   "outputs": [],
   "source": [
    "from stable_baselines3 import PPO, A2C, SAC, TD3\n",
    "from stable_baselines3.common.evaluation import evaluate_policy"
   ]
  },
  {
   "cell_type": "code",
   "execution_count": 7,
   "metadata": {},
   "outputs": [],
   "source": [
    "from stock_prediction_rl.envs.numpy.stock_trading_env import StockTradingEnv\n",
    "from stock_prediction_rl.sb.utils import (\n",
    "    create_numpy_array,\n",
    "    create_envs,\n",
    ")"
   ]
  },
  {
   "cell_type": "code",
   "execution_count": 8,
   "metadata": {},
   "outputs": [],
   "source": [
    "SEED = 1337\n",
    "random.seed(SEED)\n",
    "np.random.seed(SEED)\n",
    "th.manual_seed(SEED)\n",
    "th.backends.cudnn.deterministic = True"
   ]
  },
  {
   "cell_type": "code",
   "execution_count": 9,
   "metadata": {},
   "outputs": [],
   "source": [
    "ticker = \"SBIN.NS\"\n",
    "datasets = Path.cwd().parent / (\"datasets\")\n",
    "model_name = \"A2C\"\n",
    "num_envs = 16\n",
    "seed = 1337\n",
    "\n",
    "\n",
    "train_file = datasets / f\"{ticker}_train\"\n",
    "trade_file = datasets / f\"{ticker}_trade\"\n",
    "\n",
    "\n",
    "train_df = pl.read_parquet(train_file)\n",
    "trade_df = pl.read_parquet(trade_file)\n",
    "train_array = create_numpy_array(train_df)\n",
    "trade_arrays = create_numpy_array(trade_df)\n",
    "\n",
    "\n",
    "trade_envs = create_envs(\n",
    "    StockTradingEnv, trade_arrays, num_envs=num_envs, mode=\"trade\", seed=seed\n",
    ")\n"
   ]
  },
  {
   "cell_type": "code",
   "execution_count": 10,
   "metadata": {},
   "outputs": [],
   "source": [
    "trained_model_dir = Path.cwd().parent.parent / (\"trained_models\")\n",
    "model_filename = trained_model_dir / f\"sb_{model_name}_{ticker}_single_digit_reward_default_parameters\"\n",
    "a2c_expert = A2C.load(model_filename, env=trade_envs, force_reset=False)"
   ]
  },
  {
   "cell_type": "code",
   "execution_count": 20,
   "metadata": {},
   "outputs": [
    {
     "name": "stdout",
     "output_type": "stream",
     "text": [
      "[-18.5, 0, -4.89996337890625, 0, -32.14996337890625, -33.64996337890625, -23.64996337890625, 0, 0, -32.8499755859375, 0, -0.0999755859375, 0, -6.1500244140625, -20.39996337890625, -35.75]\n"
     ]
    }
   ],
   "source": [
    "obs = trade_envs.reset()\n",
    "counter = 0\n",
    "while counter < num_envs:\n",
    "    action, _ = a2c_expert.predict(obs, deterministic=False)\n",
    "    obs, rewards, dones, infos = trade_envs.step(action)\n",
    "\n",
    "    for i in range(num_envs):\n",
    "        if dones[i]:\n",
    "            profit_loss = [info[\"cummulative_profit_loss\"] for info in (infos)]\n",
    "            counter += 1\n",
    "print(profit_loss)"
   ]
  },
  {
   "cell_type": "code",
   "execution_count": null,
   "metadata": {},
   "outputs": [],
   "source": []
  },
  {
   "cell_type": "code",
   "execution_count": null,
   "metadata": {},
   "outputs": [],
   "source": []
  }
 ],
 "metadata": {
  "kernelspec": {
   "display_name": "Python 3",
   "language": "python",
   "name": "python3"
  },
  "language_info": {
   "codemirror_mode": {
    "name": "ipython",
    "version": 3
   },
   "file_extension": ".py",
   "mimetype": "text/x-python",
   "name": "python",
   "nbconvert_exporter": "python",
   "pygments_lexer": "ipython3",
   "version": "3.10.0"
  }
 },
 "nbformat": 4,
 "nbformat_minor": 2
}
