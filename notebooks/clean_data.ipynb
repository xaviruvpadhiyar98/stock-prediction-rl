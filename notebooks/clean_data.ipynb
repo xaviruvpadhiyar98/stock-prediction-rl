{
 "cells": [
  {
   "cell_type": "code",
   "execution_count": 1,
   "metadata": {},
   "outputs": [],
   "source": [
    "import polars as pl\n",
    "from pathlib import Path\n",
    "from config import STOCK_DATA_SAVE_DIR, TICKERS, TRAIN_TEST_SPLIT_PERCENT\n",
    "import numpy as np"
   ]
  },
  {
   "cell_type": "code",
   "execution_count": 2,
   "metadata": {},
   "outputs": [
    {
     "data": {
      "text/plain": [
       "2508"
      ]
     },
     "execution_count": 2,
     "metadata": {},
     "output_type": "execute_result"
    }
   ],
   "source": [
    "parquet_filename = Path(STOCK_DATA_SAVE_DIR) / \"random-778-tickers.parquet\"\n",
    "df = pl.read_parquet(parquet_filename)[[\"Date\", \"Ticker\", \"Close\"]]\n",
    "df = df.filter(df[\"Ticker\"].str.ends_with(\".NS\"))\n",
    "TICKERS = [t for t in TICKERS if t.endswith(\".NS\")]\n",
    "max_value_to_be_considered = df.groupby(\"Ticker\").count()[\"count\"].value_counts(sort=True).row(0)[0]\n",
    "max_value_to_be_considered"
   ]
  },
  {
   "cell_type": "code",
   "execution_count": 3,
   "metadata": {},
   "outputs": [
    {
     "data": {
      "text/html": [
       "<div><style>\n",
       ".dataframe > thead > tr > th,\n",
       ".dataframe > tbody > tr > td {\n",
       "  text-align: right;\n",
       "}\n",
       "</style>\n",
       "<small>shape: (942_856, 3)</small><table border=\"1\" class=\"dataframe\"><thead><tr><th>Date</th><th>Ticker</th><th>Close</th></tr><tr><td>datetime[ns, UTC]</td><td>str</td><td>f64</td></tr></thead><tbody><tr><td>2022-03-15 03:45:00 UTC</td><td>&quot;ADANIGREEN.NS&quot;</td><td>1826.699951</td></tr><tr><td>2022-03-15 03:45:00 UTC</td><td>&quot;ADANIPORTS.NS&quot;</td><td>730.150024</td></tr><tr><td>2022-03-15 03:45:00 UTC</td><td>&quot;ADANIPOWER.NS&quot;</td><td>125.599998</td></tr><tr><td>2022-03-15 03:45:00 UTC</td><td>&quot;ADANITRANS.NS&quot;</td><td>2244.149902</td></tr><tr><td>2022-03-15 03:45:00 UTC</td><td>&quot;AEGISCHEM.NS&quot;</td><td>192.399994</td></tr><tr><td>2022-03-15 03:45:00 UTC</td><td>&quot;AFFLE.NS&quot;</td><td>1214.349976</td></tr><tr><td>2022-03-15 03:45:00 UTC</td><td>&quot;AIAENG.NS&quot;</td><td>1680.0</td></tr><tr><td>2022-03-15 03:45:00 UTC</td><td>&quot;AJANTPHARM.NS&quot;</td><td>1195.866699</td></tr><tr><td>2022-03-15 03:45:00 UTC</td><td>&quot;AKZOINDIA.NS&quot;</td><td>1934.900024</td></tr><tr><td>2022-03-15 03:45:00 UTC</td><td>&quot;ALKEM.NS&quot;</td><td>3410.100098</td></tr><tr><td>2022-03-15 03:45:00 UTC</td><td>&quot;ALKYLAMINE.NS&quot;</td><td>2975.0</td></tr><tr><td>2022-03-15 03:45:00 UTC</td><td>&quot;AMARAJABAT.NS&quot;</td><td>582.25</td></tr><tr><td>&hellip;</td><td>&hellip;</td><td>&hellip;</td></tr><tr><td>2023-08-25 09:45:00 UTC</td><td>&quot;ULTRACEMCO.NS&quot;</td><td>8093.399902</td></tr><tr><td>2023-08-25 09:45:00 UTC</td><td>&quot;UNIONBANK.NS&quot;</td><td>89.699997</td></tr><tr><td>2023-08-25 09:45:00 UTC</td><td>&quot;UNOMINDA.NS&quot;</td><td>593.099976</td></tr><tr><td>2023-08-25 09:45:00 UTC</td><td>&quot;UPL.NS&quot;</td><td>582.75</td></tr><tr><td>2023-08-25 09:45:00 UTC</td><td>&quot;USHAMART.NS&quot;</td><td>348.0</td></tr><tr><td>2023-08-25 09:45:00 UTC</td><td>&quot;VBL.NS&quot;</td><td>873.5</td></tr><tr><td>2023-08-25 09:45:00 UTC</td><td>&quot;VEDL.NS&quot;</td><td>233.300003</td></tr><tr><td>2023-08-25 09:45:00 UTC</td><td>&quot;VGUARD.NS&quot;</td><td>313.100006</td></tr><tr><td>2023-08-25 09:45:00 UTC</td><td>&quot;VINATIORGA.NS&quot;</td><td>1796.599976</td></tr><tr><td>2023-08-25 09:45:00 UTC</td><td>&quot;VOLTAS.NS&quot;</td><td>824.0</td></tr><tr><td>2023-08-25 09:45:00 UTC</td><td>&quot;VTL.NS&quot;</td><td>374.5</td></tr><tr><td>2023-08-25 09:45:00 UTC</td><td>&quot;WELSPUNIND.NS&quot;</td><td>120.900002</td></tr></tbody></table></div>"
      ],
      "text/plain": [
       "shape: (942_856, 3)\n",
       "┌─────────────────────────┬───────────────┬─────────────┐\n",
       "│ Date                    ┆ Ticker        ┆ Close       │\n",
       "│ ---                     ┆ ---           ┆ ---         │\n",
       "│ datetime[ns, UTC]       ┆ str           ┆ f64         │\n",
       "╞═════════════════════════╪═══════════════╪═════════════╡\n",
       "│ 2022-03-15 03:45:00 UTC ┆ ADANIGREEN.NS ┆ 1826.699951 │\n",
       "│ 2022-03-15 03:45:00 UTC ┆ ADANIPORTS.NS ┆ 730.150024  │\n",
       "│ 2022-03-15 03:45:00 UTC ┆ ADANIPOWER.NS ┆ 125.599998  │\n",
       "│ 2022-03-15 03:45:00 UTC ┆ ADANITRANS.NS ┆ 2244.149902 │\n",
       "│ …                       ┆ …             ┆ …           │\n",
       "│ 2023-08-25 09:45:00 UTC ┆ VINATIORGA.NS ┆ 1796.599976 │\n",
       "│ 2023-08-25 09:45:00 UTC ┆ VOLTAS.NS     ┆ 824.0       │\n",
       "│ 2023-08-25 09:45:00 UTC ┆ VTL.NS        ┆ 374.5       │\n",
       "│ 2023-08-25 09:45:00 UTC ┆ WELSPUNIND.NS ┆ 120.900002  │\n",
       "└─────────────────────────┴───────────────┴─────────────┘"
      ]
     },
     "execution_count": 3,
     "metadata": {},
     "output_type": "execute_result"
    }
   ],
   "source": [
    "df.slice(10, -10)"
   ]
  },
  {
   "cell_type": "code",
   "execution_count": 4,
   "metadata": {},
   "outputs": [
    {
     "data": {
      "text/html": [
       "<div><style>\n",
       ".dataframe > thead > tr > th,\n",
       ".dataframe > tbody > tr > td {\n",
       "  text-align: right;\n",
       "}\n",
       "</style>\n",
       "<small>shape: (877_536, 17)</small><table border=\"1\" class=\"dataframe\"><thead><tr><th>Date</th><th>Ticker</th><th>Close</th><th>PAST_1_HOUR</th><th>PAST_2_HOUR</th><th>PAST_3_HOUR</th><th>PAST_4_HOUR</th><th>PAST_5_HOUR</th><th>PAST_6_HOUR</th><th>PAST_7_HOUR</th><th>PAST_8_HOUR</th><th>PAST_9_HOUR</th><th>PAST_10_HOUR</th><th>PAST_11_HOUR</th><th>PAST_12_HOUR</th><th>PAST_13_HOUR</th><th>PAST_14_HOUR</th></tr><tr><td>datetime[ns, UTC]</td><td>str</td><td>f64</td><td>f64</td><td>f64</td><td>f64</td><td>f64</td><td>f64</td><td>f64</td><td>f64</td><td>f64</td><td>f64</td><td>f64</td><td>f64</td><td>f64</td><td>f64</td><td>f64</td></tr></thead><tbody><tr><td>2022-03-17 04:45:00 UTC</td><td>&quot;IDEA.NS&quot;</td><td>10.4</td><td>10.4</td><td>10.3</td><td>10.25</td><td>10.25</td><td>10.1</td><td>10.2</td><td>10.15</td><td>10.15</td><td>10.0</td><td>10.05</td><td>10.1</td><td>10.2</td><td>10.35</td><td>10.4</td></tr><tr><td>2022-03-17 04:45:00 UTC</td><td>&quot;SUZLON.NS&quot;</td><td>9.95</td><td>10.0</td><td>10.0</td><td>9.95</td><td>9.95</td><td>10.0</td><td>10.0</td><td>10.0</td><td>9.95</td><td>9.8</td><td>9.75</td><td>9.75</td><td>9.95</td><td>10.1</td><td>10.1</td></tr><tr><td>2022-03-17 04:45:00 UTC</td><td>&quot;GMRINFRA.NS&quot;</td><td>38.299999</td><td>38.549999</td><td>38.5</td><td>38.450001</td><td>38.450001</td><td>38.349998</td><td>38.549999</td><td>38.400002</td><td>38.349998</td><td>37.450001</td><td>37.650002</td><td>37.75</td><td>37.849998</td><td>38.400002</td><td>38.450001</td></tr><tr><td>2022-03-17 04:45:00 UTC</td><td>&quot;ZOMATO.NS&quot;</td><td>78.800003</td><td>78.699997</td><td>76.0</td><td>75.849998</td><td>76.199997</td><td>75.949997</td><td>76.650002</td><td>76.849998</td><td>76.150002</td><td>76.849998</td><td>76.599998</td><td>77.150002</td><td>77.599998</td><td>77.650002</td><td>78.0</td></tr><tr><td>2022-03-17 04:45:00 UTC</td><td>&quot;YESBANK.NS&quot;</td><td>12.8</td><td>12.8</td><td>12.8</td><td>12.8</td><td>12.8</td><td>12.75</td><td>12.8</td><td>12.8</td><td>12.75</td><td>12.65</td><td>12.75</td><td>12.75</td><td>12.7</td><td>12.75</td><td>12.75</td></tr><tr><td>2022-03-17 04:45:00 UTC</td><td>&quot;PNB.NS&quot;</td><td>36.099998</td><td>36.200001</td><td>35.950001</td><td>35.950001</td><td>35.75</td><td>35.700001</td><td>35.950001</td><td>35.950001</td><td>36.049999</td><td>35.900002</td><td>36.0</td><td>36.150002</td><td>36.349998</td><td>36.799999</td><td>36.950001</td></tr><tr><td>2022-03-17 04:45:00 UTC</td><td>&quot;IRFC.NS&quot;</td><td>22.200001</td><td>22.450001</td><td>22.299999</td><td>22.200001</td><td>22.15</td><td>22.15</td><td>22.200001</td><td>22.200001</td><td>22.25</td><td>22.200001</td><td>22.200001</td><td>22.200001</td><td>22.1</td><td>22.299999</td><td>22.299999</td></tr><tr><td>2022-03-17 04:45:00 UTC</td><td>&quot;BEL.NS&quot;</td><td>69.316666</td><td>70.066666</td><td>69.666664</td><td>69.51667</td><td>69.48333</td><td>69.599998</td><td>69.333336</td><td>69.533333</td><td>69.166664</td><td>68.683334</td><td>68.400002</td><td>68.48333</td><td>69.083336</td><td>69.566666</td><td>69.466667</td></tr><tr><td>2022-03-17 04:45:00 UTC</td><td>&quot;TRIDENT.NS&quot;</td><td>54.400002</td><td>54.549999</td><td>54.299999</td><td>54.25</td><td>54.099998</td><td>54.150002</td><td>54.349998</td><td>54.5</td><td>54.549999</td><td>54.700001</td><td>54.0</td><td>54.799999</td><td>55.049999</td><td>55.400002</td><td>55.25</td></tr><tr><td>2022-03-17 04:45:00 UTC</td><td>&quot;IDFCFIRSTB.NS&quot;</td><td>42.599998</td><td>42.549999</td><td>42.0</td><td>42.150002</td><td>41.25</td><td>41.200001</td><td>41.400002</td><td>41.349998</td><td>41.25</td><td>40.650002</td><td>40.799999</td><td>40.900002</td><td>41.5</td><td>42.25</td><td>42.349998</td></tr><tr><td>2022-03-17 04:45:00 UTC</td><td>&quot;MAHABANK.NS&quot;</td><td>17.950001</td><td>17.950001</td><td>17.9</td><td>17.9</td><td>17.9</td><td>17.9</td><td>17.9</td><td>17.9</td><td>17.950001</td><td>17.85</td><td>17.9</td><td>17.799999</td><td>17.9</td><td>18.0</td><td>18.0</td></tr><tr><td>2022-03-17 04:45:00 UTC</td><td>&quot;BHEL.NS&quot;</td><td>51.549999</td><td>51.700001</td><td>51.099998</td><td>51.150002</td><td>51.049999</td><td>50.950001</td><td>50.950001</td><td>50.950001</td><td>50.799999</td><td>49.900002</td><td>50.299999</td><td>50.150002</td><td>50.700001</td><td>51.25</td><td>51.549999</td></tr><tr><td>&hellip;</td><td>&hellip;</td><td>&hellip;</td><td>&hellip;</td><td>&hellip;</td><td>&hellip;</td><td>&hellip;</td><td>&hellip;</td><td>&hellip;</td><td>&hellip;</td><td>&hellip;</td><td>&hellip;</td><td>&hellip;</td><td>&hellip;</td><td>&hellip;</td><td>&hellip;</td><td>&hellip;</td></tr><tr><td>2023-08-25 09:45:00 UTC</td><td>&quot;ABBOTINDIA.NS&quot;</td><td>23221.0</td><td>23177.099609</td><td>23165.0</td><td>23146.0</td><td>23128.050781</td><td>23116.0</td><td>23139.5</td><td>23164.650391</td><td>23150.050781</td><td>23205.949219</td><td>23344.5</td><td>23375.0</td><td>23362.300781</td><td>23409.699219</td><td>23231.099609</td></tr><tr><td>2023-08-25 09:45:00 UTC</td><td>&quot;GILLETTE.NS&quot;</td><td>5467.700195</td><td>5469.950195</td><td>5467.299805</td><td>5458.75</td><td>5431.5</td><td>5443.149902</td><td>5447.700195</td><td>5466.25</td><td>5472.899902</td><td>5500.0</td><td>5500.049805</td><td>5509.5</td><td>5506.75</td><td>5505.799805</td><td>5500.049805</td></tr><tr><td>2023-08-25 09:45:00 UTC</td><td>&quot;ASTRAZEN.NS&quot;</td><td>4160.149902</td><td>4166.149902</td><td>4141.200195</td><td>4157.950195</td><td>4147.899902</td><td>4112.649902</td><td>4142.200195</td><td>4147.049805</td><td>4174.200195</td><td>4200.0</td><td>4220.899902</td><td>4239.350098</td><td>4204.299805</td><td>4191.549805</td><td>4169.850098</td></tr><tr><td>2023-08-25 09:45:00 UTC</td><td>&quot;BASF.NS&quot;</td><td>2493.0</td><td>2498.899902</td><td>2502.25</td><td>2504.949951</td><td>2506.300049</td><td>2500.100098</td><td>2512.899902</td><td>2507.550049</td><td>2512.300049</td><td>2499.0</td><td>2497.25</td><td>2504.800049</td><td>2505.100098</td><td>2507.850098</td><td>2496.050049</td></tr><tr><td>2023-08-25 09:45:00 UTC</td><td>&quot;PFIZER.NS&quot;</td><td>3843.100098</td><td>3847.699951</td><td>3845.899902</td><td>3841.0</td><td>3838.699951</td><td>3838.199951</td><td>3851.0</td><td>3850.0</td><td>3861.449951</td><td>3871.0</td><td>3875.649902</td><td>3880.5</td><td>3876.550049</td><td>3869.0</td><td>3897.5</td></tr><tr><td>2023-08-25 09:45:00 UTC</td><td>&quot;AKZOINDIA.NS&quot;</td><td>2764.649902</td><td>2770.0</td><td>2768.649902</td><td>2765.850098</td><td>2767.550049</td><td>2767.0</td><td>2770.0</td><td>2768.949951</td><td>2765.949951</td><td>2767.449951</td><td>2770.0</td><td>2775.0</td><td>2783.75</td><td>2780.0</td><td>2789.649902</td></tr><tr><td>2023-08-25 09:45:00 UTC</td><td>&quot;SANOFI.NS&quot;</td><td>7110.0</td><td>7123.649902</td><td>7125.0</td><td>7135.0</td><td>7140.0</td><td>7135.649902</td><td>7164.5</td><td>7164.549805</td><td>7166.899902</td><td>7161.950195</td><td>7166.200195</td><td>7164.5</td><td>7159.149902</td><td>7155.0</td><td>7159.399902</td></tr><tr><td>2023-08-25 09:45:00 UTC</td><td>&quot;MRF.NS&quot;</td><td>108542.0</td><td>108553.453125</td><td>108681.398438</td><td>108601.101562</td><td>108501.796875</td><td>108492.453125</td><td>108754.453125</td><td>108595.148438</td><td>108600.0</td><td>108518.0</td><td>108356.898438</td><td>108353.398438</td><td>108356.953125</td><td>108528.203125</td><td>108675.546875</td></tr><tr><td>2023-08-25 09:45:00 UTC</td><td>&quot;LAXMIMACH.NS&quot;</td><td>13535.150391</td><td>13578.950195</td><td>13600.099609</td><td>13603.400391</td><td>13600.0</td><td>13461.0</td><td>13596.25</td><td>13477.599609</td><td>13510.349609</td><td>13480.049805</td><td>13659.0</td><td>13501.299805</td><td>13556.349609</td><td>13635.700195</td><td>13604.75</td></tr><tr><td>2023-08-25 09:45:00 UTC</td><td>&quot;PGHH.NS&quot;</td><td>15542.950195</td><td>15550.150391</td><td>15581.599609</td><td>15557.849609</td><td>15540.900391</td><td>15556.549805</td><td>15582.049805</td><td>15628.599609</td><td>15630.0</td><td>15617.400391</td><td>15592.599609</td><td>15601.150391</td><td>15600.0</td><td>15503.400391</td><td>15570.0</td></tr><tr><td>2023-08-25 09:45:00 UTC</td><td>&quot;3MINDIA.NS&quot;</td><td>30355.050781</td><td>30363.099609</td><td>30460.0</td><td>30392.400391</td><td>30374.900391</td><td>30348.75</td><td>30389.599609</td><td>30548.900391</td><td>30559.699219</td><td>30500.0</td><td>30396.949219</td><td>30370.0</td><td>30400.0</td><td>30446.849609</td><td>30242.650391</td></tr><tr><td>2023-08-25 09:45:00 UTC</td><td>&quot;HONAUT.NS&quot;</td><td>40207.25</td><td>40299.800781</td><td>40365.101562</td><td>40423.75</td><td>40440.0</td><td>40390.050781</td><td>40601.449219</td><td>40772.898438</td><td>40725.5</td><td>40599.25</td><td>40652.75</td><td>40803.5</td><td>40834.898438</td><td>40803.148438</td><td>40342.101562</td></tr></tbody></table></div>"
      ],
      "text/plain": [
       "shape: (877_536, 17)\n",
       "┌───────────┬───────────┬───────────┬───────────┬───┬───────────┬───────────┬───────────┬──────────┐\n",
       "│ Date      ┆ Ticker    ┆ Close     ┆ PAST_1_HO ┆ … ┆ PAST_11_H ┆ PAST_12_H ┆ PAST_13_H ┆ PAST_14_ │\n",
       "│ ---       ┆ ---       ┆ ---       ┆ UR        ┆   ┆ OUR       ┆ OUR       ┆ OUR       ┆ HOUR     │\n",
       "│ datetime[ ┆ str       ┆ f64       ┆ ---       ┆   ┆ ---       ┆ ---       ┆ ---       ┆ ---      │\n",
       "│ ns, UTC]  ┆           ┆           ┆ f64       ┆   ┆ f64       ┆ f64       ┆ f64       ┆ f64      │\n",
       "╞═══════════╪═══════════╪═══════════╪═══════════╪═══╪═══════════╪═══════════╪═══════════╪══════════╡\n",
       "│ 2022-03-1 ┆ IDEA.NS   ┆ 10.4      ┆ 10.4      ┆ … ┆ 10.1      ┆ 10.2      ┆ 10.35     ┆ 10.4     │\n",
       "│ 7         ┆           ┆           ┆           ┆   ┆           ┆           ┆           ┆          │\n",
       "│ 04:45:00  ┆           ┆           ┆           ┆   ┆           ┆           ┆           ┆          │\n",
       "│ UTC       ┆           ┆           ┆           ┆   ┆           ┆           ┆           ┆          │\n",
       "│ 2022-03-1 ┆ SUZLON.NS ┆ 9.95      ┆ 10.0      ┆ … ┆ 9.75      ┆ 9.95      ┆ 10.1      ┆ 10.1     │\n",
       "│ 7         ┆           ┆           ┆           ┆   ┆           ┆           ┆           ┆          │\n",
       "│ 04:45:00  ┆           ┆           ┆           ┆   ┆           ┆           ┆           ┆          │\n",
       "│ UTC       ┆           ┆           ┆           ┆   ┆           ┆           ┆           ┆          │\n",
       "│ 2022-03-1 ┆ GMRINFRA. ┆ 38.299999 ┆ 38.549999 ┆ … ┆ 37.75     ┆ 37.849998 ┆ 38.400002 ┆ 38.45000 │\n",
       "│ 7         ┆ NS        ┆           ┆           ┆   ┆           ┆           ┆           ┆ 1        │\n",
       "│ 04:45:00  ┆           ┆           ┆           ┆   ┆           ┆           ┆           ┆          │\n",
       "│ UTC       ┆           ┆           ┆           ┆   ┆           ┆           ┆           ┆          │\n",
       "│ 2022-03-1 ┆ ZOMATO.NS ┆ 78.800003 ┆ 78.699997 ┆ … ┆ 77.150002 ┆ 77.599998 ┆ 77.650002 ┆ 78.0     │\n",
       "│ 7         ┆           ┆           ┆           ┆   ┆           ┆           ┆           ┆          │\n",
       "│ 04:45:00  ┆           ┆           ┆           ┆   ┆           ┆           ┆           ┆          │\n",
       "│ UTC       ┆           ┆           ┆           ┆   ┆           ┆           ┆           ┆          │\n",
       "│ …         ┆ …         ┆ …         ┆ …         ┆ … ┆ …         ┆ …         ┆ …         ┆ …        │\n",
       "│ 2023-08-2 ┆ LAXMIMACH ┆ 13535.150 ┆ 13578.950 ┆ … ┆ 13501.299 ┆ 13556.349 ┆ 13635.700 ┆ 13604.75 │\n",
       "│ 5         ┆ .NS       ┆ 391       ┆ 195       ┆   ┆ 805       ┆ 609       ┆ 195       ┆          │\n",
       "│ 09:45:00  ┆           ┆           ┆           ┆   ┆           ┆           ┆           ┆          │\n",
       "│ UTC       ┆           ┆           ┆           ┆   ┆           ┆           ┆           ┆          │\n",
       "│ 2023-08-2 ┆ PGHH.NS   ┆ 15542.950 ┆ 15550.150 ┆ … ┆ 15601.150 ┆ 15600.0   ┆ 15503.400 ┆ 15570.0  │\n",
       "│ 5         ┆           ┆ 195       ┆ 391       ┆   ┆ 391       ┆           ┆ 391       ┆          │\n",
       "│ 09:45:00  ┆           ┆           ┆           ┆   ┆           ┆           ┆           ┆          │\n",
       "│ UTC       ┆           ┆           ┆           ┆   ┆           ┆           ┆           ┆          │\n",
       "│ 2023-08-2 ┆ 3MINDIA.N ┆ 30355.050 ┆ 30363.099 ┆ … ┆ 30370.0   ┆ 30400.0   ┆ 30446.849 ┆ 30242.65 │\n",
       "│ 5         ┆ S         ┆ 781       ┆ 609       ┆   ┆           ┆           ┆ 609       ┆ 0391     │\n",
       "│ 09:45:00  ┆           ┆           ┆           ┆   ┆           ┆           ┆           ┆          │\n",
       "│ UTC       ┆           ┆           ┆           ┆   ┆           ┆           ┆           ┆          │\n",
       "│ 2023-08-2 ┆ HONAUT.NS ┆ 40207.25  ┆ 40299.800 ┆ … ┆ 40803.5   ┆ 40834.898 ┆ 40803.148 ┆ 40342.10 │\n",
       "│ 5         ┆           ┆           ┆ 781       ┆   ┆           ┆ 438       ┆ 438       ┆ 1562     │\n",
       "│ 09:45:00  ┆           ┆           ┆           ┆   ┆           ┆           ┆           ┆          │\n",
       "│ UTC       ┆           ┆           ┆           ┆   ┆           ┆           ┆           ┆          │\n",
       "└───────────┴───────────┴───────────┴───────────┴───┴───────────┴───────────┴───────────┴──────────┘"
      ]
     },
     "execution_count": 4,
     "metadata": {},
     "output_type": "execute_result"
    }
   ],
   "source": [
    "features_df = pl.DataFrame()\n",
    "\n",
    "\n",
    "for i, ticker in enumerate(TICKERS):\n",
    "    tmp_df = df.filter(pl.col(\"Ticker\") == ticker).reverse()\n",
    "    tmp_df = tmp_df.slice(0, max_value_to_be_considered).reverse()\n",
    "    tmp_df = tmp_df.unique(subset=[\"Date\"], maintain_order=True)\n",
    "    if tmp_df.shape[0] == max_value_to_be_considered:\n",
    "        tmp_df = tmp_df.with_columns([\n",
    "            pl.col(\"Close\").shift(hour).alias(f\"PAST_{hour}_HOUR\")\n",
    "            for hour in range(1, 15)\n",
    "        ])\n",
    "        features_df = pl.concat([features_df, tmp_df], how=\"diagonal\")\n",
    "\n",
    "technical_indicators = [hour for hour in range(1, 15)]\n",
    "\n",
    "features_df = features_df.drop_nulls()\n",
    "features_df = features_df.sort(\"Date\", descending=False)\n",
    "features_df = features_df.filter(pl.count(\"Ticker\").over(\"Date\") == features_df[\"Ticker\"].n_unique())\n",
    "features_df"
   ]
  },
  {
   "cell_type": "code",
   "execution_count": 5,
   "metadata": {},
   "outputs": [],
   "source": [
    "total = features_df.groupby(\"Ticker\").count().row(0)[1]\n",
    "train_size = total - int(total * TRAIN_TEST_SPLIT_PERCENT)\n",
    "test_size = total - train_size - 1\n",
    "\n",
    "train_end_index = train_size * features_df[\"Ticker\"].n_unique()\n",
    "trade_end_index = test_size * features_df[\"Ticker\"].n_unique()\n",
    "\n",
    "train_df = features_df.slice(0, train_end_index)\n",
    "trade_df = features_df.slice(train_end_index, trade_end_index)"
   ]
  },
  {
   "cell_type": "code",
   "execution_count": 21,
   "metadata": {},
   "outputs": [
    {
     "data": {
      "text/plain": [
       "372"
      ]
     },
     "execution_count": 21,
     "metadata": {},
     "output_type": "execute_result"
    }
   ],
   "source": [
    "cols = trade_df.columns\n",
    "cols.remove(\"Date\")\n",
    "cols.remove(\"Ticker\")\n",
    "\n",
    "arr = []\n",
    "for i, (name, data) in enumerate(trade_df.groupby(\"Date\")):\n",
    "    new_arr = data.select(cols).to_numpy()\n",
    "    arr.append(new_arr)\n",
    "\n",
    "trade_arrays = (np.asarray(arr))\n",
    "len(trade_arrays)"
   ]
  },
  {
   "cell_type": "code",
   "execution_count": 10,
   "metadata": {},
   "outputs": [],
   "source": [
    "with open(f\"{STOCK_DATA_SAVE_DIR}/train-trade.npy\", \"rb\") as f:\n",
    "    train_arrays = np.load(f, allow_pickle=True, fix_imports=True)\n",
    "    trade_arrays = np.load(f, allow_pickle=True, fix_imports=True)\n",
    "    TICKERS = np.load(f, allow_pickle=True, fix_imports=True)\n",
    "    TECHNICAL_INDICATORS = np.load(f, allow_pickle=True, fix_imports=True)"
   ]
  },
  {
   "cell_type": "code",
   "execution_count": 22,
   "metadata": {},
   "outputs": [
    {
     "name": "stdout",
     "output_type": "stream",
     "text": [
      "352\n",
      "[[7.40000010e+00 7.44999981e+00 7.40000010e+00 ... 7.19999981e+00\n",
      "  7.05000019e+00 7.05000019e+00]\n",
      " [1.33999996e+01 1.33000002e+01 1.33500004e+01 ... 1.35500002e+01\n",
      "  1.23999996e+01 1.21499996e+01]\n",
      " [4.21500015e+01 4.22999992e+01 4.22999992e+01 ... 4.21500015e+01\n",
      "  4.17500000e+01 4.16500015e+01]\n",
      " ...\n",
      " [1.37513496e+04 1.37500000e+04 1.37540000e+04 ... 1.37660000e+04\n",
      "  1.37700000e+04 1.37850000e+04]\n",
      " [2.67510000e+04 2.68433008e+04 2.70490000e+04 ... 2.74250000e+04\n",
      "  2.74750000e+04 2.74500000e+04]\n",
      " [4.10671484e+04 4.09000000e+04 4.09000000e+04 ... 4.08899492e+04\n",
      "  4.08998516e+04 4.09150000e+04]]\n"
     ]
    }
   ],
   "source": [
    "for arr in trade_arrays:\n",
    "    print(len(arr))\n",
    "    print(arr)\n",
    "    break"
   ]
  }
 ],
 "metadata": {
  "kernelspec": {
   "display_name": "Python 3",
   "language": "python",
   "name": "python3"
  },
  "language_info": {
   "codemirror_mode": {
    "name": "ipython",
    "version": 3
   },
   "file_extension": ".py",
   "mimetype": "text/x-python",
   "name": "python",
   "nbconvert_exporter": "python",
   "pygments_lexer": "ipython3",
   "version": "3.10.12"
  },
  "orig_nbformat": 4
 },
 "nbformat": 4,
 "nbformat_minor": 2
}
