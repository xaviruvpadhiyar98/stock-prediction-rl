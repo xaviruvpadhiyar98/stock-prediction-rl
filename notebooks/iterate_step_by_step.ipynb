{
 "cells": [
  {
   "cell_type": "code",
   "execution_count": 1,
   "metadata": {},
   "outputs": [],
   "source": [
    "import numpy as np\n",
    "import polars as pl\n",
    "from pathlib import Path\n",
    "from envs.stock_trading_env_using_tensor import StockTradingEnv\n",
    "import random\n",
    "import torch\n",
    "from ppo_agent import Agent\n",
    "from gymnasium.vector import SyncVectorEnv\n",
    "from utils import (\n",
    "    load_data,\n",
    "    add_past_hours,\n",
    "    train_test_split,\n",
    "    create_torch_array,\n",
    "    make_env,\n",
    ")"
   ]
  },
  {
   "cell_type": "code",
   "execution_count": 9,
   "metadata": {},
   "outputs": [],
   "source": [
    "DEVICE = \"cuda\" if torch.cuda.is_available() else \"cpu\"\n",
    "TICKERS = \"SBIN.NS\"\n",
    "SEED = 1337\n",
    "NUM_ENVS = 2\n",
    "TRAINED_MODEL_DIR = Path(\"trained_models\")\n",
    "TENSORBOARD_LOG_DIR = Path(\"tensorboard_log\")\n",
    "MODEL_SAVE_FILE = TRAINED_MODEL_DIR / \"clean_rl_agent_ppo.pt\""
   ]
  },
  {
   "cell_type": "code",
   "execution_count": 10,
   "metadata": {},
   "outputs": [],
   "source": [
    "random.seed(SEED)\n",
    "np.random.seed(SEED)\n",
    "torch.manual_seed(SEED)\n",
    "torch.backends.cudnn.deterministic = True"
   ]
  },
  {
   "cell_type": "code",
   "execution_count": 11,
   "metadata": {},
   "outputs": [
    {
     "data": {
      "text/plain": [
       "Agent(\n",
       "  (critic): Sequential(\n",
       "    (0): Linear(in_features=17, out_features=64, bias=True)\n",
       "    (1): Tanh()\n",
       "    (2): Linear(in_features=64, out_features=64, bias=True)\n",
       "    (3): Tanh()\n",
       "    (4): Linear(in_features=64, out_features=1, bias=True)\n",
       "  )\n",
       "  (actor): Sequential(\n",
       "    (0): Linear(in_features=17, out_features=64, bias=True)\n",
       "    (1): Tanh()\n",
       "    (2): Linear(in_features=64, out_features=64, bias=True)\n",
       "    (3): Tanh()\n",
       "    (4): Linear(in_features=64, out_features=3, bias=True)\n",
       "  )\n",
       ")"
      ]
     },
     "execution_count": 11,
     "metadata": {},
     "output_type": "execute_result"
    }
   ],
   "source": [
    "df = load_data()\n",
    "df = add_past_hours(df)\n",
    "df = df.with_columns(pl.lit(0.0).alias(\"Buy/Sold/Hold\"))\n",
    "train_df, trade_df = train_test_split(df)\n",
    "\n",
    "assert train_df.columns == trade_df.columns\n",
    "\n",
    "trade_arrays = create_torch_array(trade_df, device=DEVICE)\n",
    "trade_envs = SyncVectorEnv(\n",
    "    [\n",
    "        make_env(StockTradingEnv, trade_arrays, TICKERS)\n",
    "        for _ in range(NUM_ENVS)\n",
    "    ]\n",
    ")\n",
    "trade_agent = Agent(trade_envs).to(DEVICE)\n",
    "trade_agent.load_state_dict(torch.load(MODEL_SAVE_FILE, map_location=DEVICE))\n",
    "trade_agent.eval()"
   ]
  },
  {
   "cell_type": "code",
   "execution_count": 12,
   "metadata": {},
   "outputs": [
    {
     "data": {
      "text/plain": [
       "tensor([[10000.0000,   591.9500,   595.3000,   593.0000,   586.6500,   585.4500,\n",
       "           584.9000,   582.9000,   582.8000,   579.7500,   577.9500,   577.5000,\n",
       "           572.8500,   573.1500,   571.7500,   572.3000,     0.0000],\n",
       "        [10000.0000,   591.9500,   595.3000,   593.0000,   586.6500,   585.4500,\n",
       "           584.9000,   582.9000,   582.8000,   579.7500,   577.9500,   577.5000,\n",
       "           572.8500,   573.1500,   571.7500,   572.3000,     0.0000]],\n",
       "       device='cuda:0')"
      ]
     },
     "execution_count": 12,
     "metadata": {},
     "output_type": "execute_result"
    }
   ],
   "source": [
    "obs, info = trade_envs.reset(seed=SEED)\n",
    "obs"
   ]
  },
  {
   "cell_type": "code",
   "execution_count": 17,
   "metadata": {},
   "outputs": [
    {
     "data": {
      "text/plain": [
       "{'index': 0,\n",
       " 'close_price': tensor(591.9500, device='cuda:0'),\n",
       " 'available_amount': tensor(10000., device='cuda:0'),\n",
       " 'shares_holdings': tensor(0., device='cuda:0'),\n",
       " 'cummulative_profit_loss': 0,\n",
       " 'good_buys': 0,\n",
       " 'good_sells': 0,\n",
       " 'good_holds': 0,\n",
       " 'bad_buys': 0,\n",
       " 'bad_sells': 0,\n",
       " 'bad_holds': 0,\n",
       " 'reward': 0.0,\n",
       " 'portfolio_value': tensor(10000., device='cuda:0')}"
      ]
     },
     "execution_count": 17,
     "metadata": {},
     "output_type": "execute_result"
    }
   ],
   "source": [
    "new_info = {}\n",
    "for k, v in info.items():\n",
    "    if k.startswith(\"_\"):\n",
    "        continue\n",
    "    new_info[k] = v[0]\n",
    "new_info"
   ]
  },
  {
   "cell_type": "code",
   "execution_count": 22,
   "metadata": {},
   "outputs": [
    {
     "data": {
      "text/plain": [
       "tensor(595.9500, device='cuda:0')"
      ]
     },
     "execution_count": 22,
     "metadata": {},
     "output_type": "execute_result"
    }
   ],
   "source": [
    "(obs[0][1] * 5 + 20) / 5"
   ]
  },
  {
   "cell_type": "code",
   "execution_count": 23,
   "metadata": {},
   "outputs": [
    {
     "data": {
      "text/plain": [
       "500"
      ]
     },
     "execution_count": 23,
     "metadata": {},
     "output_type": "execute_result"
    }
   ],
   "source": [
    "10 # shares\n",
    "50 # share price\n",
    "\n"
   ]
  },
  {
   "cell_type": "code",
   "execution_count": 24,
   "metadata": {},
   "outputs": [
    {
     "name": "stdout",
     "output_type": "stream",
     "text": [
      "New Average Buy Price: 53.333333333333336\n",
      "New Total Shares: 15\n"
     ]
    }
   ],
   "source": [
    "def combine_avg_buy_prices(previous_avg_buy_price, current_avg_buy_price, previous_shares, current_shares):\n",
    "    # Step 2: Check for Initial Conditions\n",
    "    if previous_avg_buy_price is None and current_avg_buy_price is None:\n",
    "        return None, 0\n",
    "    elif previous_avg_buy_price is None:\n",
    "        return current_avg_buy_price, current_shares\n",
    "    elif current_avg_buy_price is None:\n",
    "        return previous_avg_buy_price, previous_shares\n",
    "    \n",
    "    # Step 3: Weighted Combination of Previous and Current Average Buy Prices\n",
    "    total_cost_previous = previous_avg_buy_price * previous_shares\n",
    "    total_cost_current = current_avg_buy_price * current_shares\n",
    "    total_shares = previous_shares + current_shares  # Step 4: Update Number of Shares\n",
    "    \n",
    "    combined_avg_buy_price = (total_cost_previous + total_cost_current) / total_shares\n",
    "    \n",
    "    return combined_avg_buy_price, total_shares\n",
    "\n",
    "# Test the function\n",
    "prev_price = 50  # Example previous average buy price\n",
    "curr_price = 60  # Example current average buy price\n",
    "prev_shares = 10  # Number of shares bought at previous average buy price\n",
    "curr_shares = 5  # Number of shares bought at current average buy price\n",
    "\n",
    "new_avg_price, new_total_shares = combine_avg_buy_prices(prev_price, curr_price, prev_shares, curr_shares)\n",
    "print(\"New Average Buy Price:\", new_avg_price)\n",
    "print(\"New Total Shares:\", new_total_shares)"
   ]
  },
  {
   "cell_type": "code",
   "execution_count": 29,
   "metadata": {},
   "outputs": [
    {
     "ename": "TypeError",
     "evalue": "index expected at least 1 argument, got 0",
     "output_type": "error",
     "traceback": [
      "\u001b[0;31m---------------------------------------------------------------------------\u001b[0m",
      "\u001b[0;31mTypeError\u001b[0m                                 Traceback (most recent call last)",
      "\u001b[1;32m/home/dhruv/Projects/stocks-prediction/v2/iterate_step_by_step.ipynb Cell 10\u001b[0m line \u001b[0;36m2\n\u001b[1;32m      <a href='vscode-notebook-cell:/home/dhruv/Projects/stocks-prediction/v2/iterate_step_by_step.ipynb#X12sZmlsZQ%3D%3D?line=0'>1</a>\u001b[0m a \u001b[39m=\u001b[39m [\u001b[39m1\u001b[39m,\u001b[39m2\u001b[39m,\u001b[39m3\u001b[39m,\u001b[39m4\u001b[39m,\u001b[39m5\u001b[39m]\n\u001b[0;32m----> <a href='vscode-notebook-cell:/home/dhruv/Projects/stocks-prediction/v2/iterate_step_by_step.ipynb#X12sZmlsZQ%3D%3D?line=1'>2</a>\u001b[0m a\u001b[39m.\u001b[39;49mindex()\n",
      "\u001b[0;31mTypeError\u001b[0m: index expected at least 1 argument, got 0"
     ]
    }
   ],
   "source": [
    "a = [10,10,10,10,10]\n",
    "a.index(0)"
   ]
  },
  {
   "cell_type": "code",
   "execution_count": 31,
   "metadata": {},
   "outputs": [],
   "source": [
    "a = [10,10,10,10,10]\n",
    "b = a[:2]\n",
    "a = a[2:]"
   ]
  },
  {
   "cell_type": "code",
   "execution_count": 33,
   "metadata": {},
   "outputs": [
    {
     "data": {
      "text/plain": [
       "[10, 10]"
      ]
     },
     "execution_count": 33,
     "metadata": {},
     "output_type": "execute_result"
    }
   ],
   "source": [
    "b"
   ]
  }
 ],
 "metadata": {
  "kernelspec": {
   "display_name": "Python 3",
   "language": "python",
   "name": "python3"
  },
  "language_info": {
   "codemirror_mode": {
    "name": "ipython",
    "version": 3
   },
   "file_extension": ".py",
   "mimetype": "text/x-python",
   "name": "python",
   "nbconvert_exporter": "python",
   "pygments_lexer": "ipython3",
   "version": "3.10.0"
  },
  "orig_nbformat": 4
 },
 "nbformat": 4,
 "nbformat_minor": 2
}
